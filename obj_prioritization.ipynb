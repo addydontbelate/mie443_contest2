{
 "cells": [
  {
   "cell_type": "code",
   "execution_count": 8,
   "metadata": {},
   "outputs": [],
   "source": [
    "import numpy as np\n",
    "from random import random\n",
    "import itertools"
   ]
  },
  {
   "cell_type": "code",
   "execution_count": 9,
   "metadata": {},
   "outputs": [
    {
     "name": "stdout",
     "output_type": "stream",
     "text": "Robot Coordinates:\n[ 4.86649128 -7.26277876]\nObjective Coordinates:\n[[ 1.92210082  5.71374822]\n [-2.91605701 -1.36331488]\n [-8.1272246   5.78720811]\n [ 0.69637305 -8.31135624]\n [-6.15268404 -8.72847916]]\n"
    }
   ],
   "source": [
    "# Setup up testing robot and objective coordinates\n",
    "robot_coords = np.array([random()*20 - 10, random()*20 - 10]);\n",
    "obj_coords = np.empty((5,2), dtype=float);\n",
    "for i in range(0, obj_coords.shape[0]):\n",
    "    for j in range(0, obj_coords.shape[1]):\n",
    "        obj_coords[i][j] = random()*20 - 10;\n",
    "print('Robot Coordinates:')\n",
    "print(robot_coords)\n",
    "print('Objective Coordinates:')\n",
    "print(obj_coords)"
   ]
  },
  {
   "cell_type": "code",
   "execution_count": 10,
   "metadata": {},
   "outputs": [
    {
     "name": "stdout",
     "output_type": "stream",
     "text": "Number of Objective Coordinates: 5\n"
    }
   ],
   "source": [
    "#\n",
    "N_obj = obj_coords.shape[0]\n",
    "print('Number of Objective Coordinates:', N_obj)"
   ]
  },
  {
   "cell_type": "code",
   "execution_count": 12,
   "metadata": {},
   "outputs": [
    {
     "name": "stdout",
     "output_type": "stream",
     "text": "[[ 4.86649128 -7.26277876]\n [ 1.92210082  5.71374822]\n [-2.91605701 -1.36331488]\n [-8.1272246   5.78720811]\n [ 0.69637305 -8.31135624]\n [ 0.          0.        ]]\n"
    }
   ],
   "source": [
    "# Agregate robot and objective coordinates\n",
    "obj_positions = np.empty((N_obj + 1, 2), dtype=float)\n",
    "for i in range(0, N_obj):\n",
    "    if i == 0:\n",
    "        obj_positions[i][0] = robot_coords[0]\n",
    "        obj_positions[i][1] = robot_coords[1]\n",
    "    else:\n",
    "        obj_positions[i][0] = obj_coords[i-1][0]\n",
    "        obj_positions[i][1] = obj_coords[i-1][1]\n",
    "print(obj_positions)"
   ]
  },
  {
   "cell_type": "code",
   "execution_count": 13,
   "metadata": {},
   "outputs": [
    {
     "name": "stdout",
     "output_type": "stream",
     "text": "[[ 0.         13.30637771  9.76584518 18.41572181  4.29993032  8.74246492]\n [13.30637771  0.          8.57278211 10.04959391 14.07856398  6.02838206]\n [ 9.76584518  8.57278211  0.          8.84795155  7.83102355  3.21900853]\n [18.41572181 10.04959391  8.84795155  0.         16.63205917  9.97715176]\n [ 4.29993032 14.07856398  7.83102355 16.63205917  0.          8.34047829]\n [ 8.74246492  6.02838206  3.21900853  9.97715176  8.34047829  0.        ]]\n"
    }
   ],
   "source": [
    "# Compute square distances array\n",
    "obj_distances = np.empty((N_obj + 1, N_obj + 1), dtype=float)\n",
    "for i in range(0, N_obj + 1):\n",
    "    for j in range(0, N_obj + 1):\n",
    "        x_diff = obj_positions[i][0] - obj_positions[j][0]\n",
    "        y_diff = obj_positions[i][1] - obj_positions[j][1]\n",
    "        obj_distances[i][j] = (x_diff**2 + y_diff**2)**(1/2)\n",
    "print(obj_distances)\n",
    ""
   ]
  },
  {
   "cell_type": "code",
   "execution_count": 15,
   "metadata": {},
   "outputs": [
    {
     "name": "stdout",
     "output_type": "stream",
     "text": "[[64.44211374]\n [53.34467174]\n [65.06185921]\n [66.44353522]\n [56.00730961]\n [68.48642761]\n [57.11788991]\n [48.0633403 ]\n [59.78052777]\n [61.31336278]\n [48.68308578]\n [59.27047039]\n [62.78353345]\n [66.82784733]\n [64.82642584]\n [66.97900633]\n [66.20810185]\n [64.31636846]\n [52.33370933]\n [65.43257282]\n [50.29081694]\n [63.54083942]\n [62.76993495]\n [62.92109395]\n [62.10322357]\n [51.00578157]\n [67.76886712]\n [69.15054313]\n [55.27615061]\n [67.75526861]\n [59.82489781]\n [47.3321813 ]\n [64.09526685]\n [62.92109395]\n [52.99782485]\n [64.31636846]\n [60.44464329]\n [66.09668833]\n [59.04936877]\n [63.54083942]\n [60.43104478]\n [59.27047039]\n [49.99481917]\n [68.13958072]\n [51.39009368]\n [66.97900633]\n [63.86921169]\n [61.31336278]\n [61.95206458]\n [52.89751497]\n [62.33637668]\n [63.86921169]\n [49.84366017]\n [60.43104478]\n [66.99796265]\n [54.50524614]\n [63.94410785]\n [62.76993495]\n [54.88955824]\n [66.20810185]\n [69.66060051]\n [68.13958072]\n [66.22243361]\n [65.43257282]\n [67.75526861]\n [68.48642761]\n [55.12499161]\n [66.09668833]\n [58.56315852]\n [66.82784733]\n [69.15054313]\n [66.44353522]\n [54.51884464]\n [58.56315852]\n [49.2375132 ]\n [51.39009368]\n [54.88955824]\n [52.99782485]\n [49.47294657]\n [55.12499161]\n [45.7993463 ]\n [50.29081694]\n [49.84366017]\n [48.68308578]\n [51.51583896]\n [49.99481917]\n [53.12357013]\n [52.33370933]\n [55.27615061]\n [56.00730961]\n [54.50524614]\n [47.3321813 ]\n [52.89751497]\n [48.0633403 ]\n [51.00578157]\n [53.34467174]\n [53.12357013]\n [66.22243361]\n [45.7993463 ]\n [59.04936877]\n [63.94410785]\n [64.09526685]\n [51.51583896]\n [69.66060051]\n [49.2375132 ]\n [64.82642584]\n [62.33637668]\n [59.78052777]\n [49.47294657]\n [60.44464329]\n [54.51884464]\n [62.78353345]\n [67.76886712]\n [65.06185921]\n [66.99796265]\n [59.82489781]\n [61.95206458]\n [57.11788991]\n [62.10322357]\n [64.44211374]]\n"
    }
   ],
   "source": [
    "# Compute the permutations\n",
    "N_perm = np.math.factorial(N_obj)\n",
    "\n",
    "obj_list = []\n",
    "for i in range(0, N_obj):\n",
    "    obj_list.append(i+1)\n",
    "perm = itertools.permutations(obj_list)\n",
    "\n",
    "obj_permutations = np.zeros((N_perm, N_obj), dtype=int)\n",
    "ctr = 0\n",
    "for i in perm:\n",
    "    obj_permutations[ctr] = np.array(i)\n",
    "    ctr = ctr + 1\n",
    "\n",
    "obj_totaldistances = np.zeros((N_perm, 1), dtype=float)\n",
    "for i in range(0, N_perm):\n",
    "    total_dist = obj_distances[0][obj_permutations[i][0]]\n",
    "    for j in range(0, N_obj - 1):\n",
    "        total_dist += obj_distances[obj_permutations[i][j]][obj_permutations[i][j+1]]\n",
    "    total_dist += obj_distances[obj_permutations[i][N_obj - 1]][0]\n",
    "    obj_totaldistances[i] = total_dist\n",
    "print(obj_totaldistances)"
   ]
  },
  {
   "cell_type": "code",
   "execution_count": 16,
   "metadata": {},
   "outputs": [
    {
     "name": "stdout",
     "output_type": "stream",
     "text": "Optimal Objective Priority:\n[4 2 3 1 5]\nMinimum Travel Distance: [45.7993463]\n"
    }
   ],
   "source": [
    "obj_minimum_dist = obj_totaldistances[0]\n",
    "obj_minimum_perm_index = 0\n",
    "for i in range(0, N_perm):\n",
    "    if obj_totaldistances[i] < obj_minimum_dist:\n",
    "        obj_minimum_dist = obj_totaldistances[i]\n",
    "        obj_minimum_perm_index = i\n",
    "\n",
    "print('Optimal Objective Priority:')\n",
    "print(obj_permutations[obj_minimum_perm_index])\n",
    "print('Minimum Travel Distance:', obj_minimum_dist)\n",
    "    "
   ]
  },
  {
   "cell_type": "code",
   "execution_count": null,
   "metadata": {},
   "outputs": [],
   "source": []
  }
 ],
 "metadata": {
  "file_extension": ".py",
  "kernelspec": {
   "display_name": "Python 3",
   "language": "python",
   "name": "python3"
  },
  "language_info": {
   "codemirror_mode": {
    "name": "ipython",
    "version": 3
   },
   "file_extension": ".py",
   "mimetype": "text/x-python",
   "name": "python",
   "nbconvert_exporter": "python",
   "pygments_lexer": "ipython3",
   "version": "3.7.4-final"
  },
  "mimetype": "text/x-python",
  "name": "python",
  "npconvert_exporter": "python",
  "pygments_lexer": "ipython3",
  "version": 3
 },
 "nbformat": 4,
 "nbformat_minor": 2
}