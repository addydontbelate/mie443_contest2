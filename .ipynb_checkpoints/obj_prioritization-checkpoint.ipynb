{
 "cells": [
  {
   "cell_type": "code",
   "execution_count": 84,
   "metadata": {
    "scrolled": true
   },
   "outputs": [],
   "source": [
    "import numpy as np\n",
    "from random import random\n",
    "import itertools"
   ]
  },
  {
   "cell_type": "code",
   "execution_count": 141,
   "metadata": {},
   "outputs": [
    {
     "name": "stdout",
     "output_type": "stream",
     "text": [
      "Robot Coordinates:\n",
      "[-9.42875964  1.74856255]\n",
      "Objective Coordinates:\n",
      "[[-7.39770136  0.68294264]\n",
      " [-2.96724392 -5.39100913]\n",
      " [ 3.02002037  1.46290097]\n",
      " [ 7.74345057 -9.24144303]\n",
      " [ 6.92627959 -5.52780433]]\n"
     ]
    }
   ],
   "source": [
    "# Setup up testing robot and objective coordinates\n",
    "robot_coords = np.array([random()*20 - 10, random()*20 - 10]);\n",
    "obj_coords = np.empty((5,2), dtype=float);\n",
    "for i in range(0, obj_coords.shape[0]):\n",
    "    for j in range(0, obj_coords.shape[1]):\n",
    "        obj_coords[i][j] = random()*20 - 10;\n",
    "print('Robot Coordinates:')\n",
    "print(robot_coords)\n",
    "print('Objective Coordinates:')\n",
    "print(obj_coords)"
   ]
  },
  {
   "cell_type": "code",
   "execution_count": 142,
   "metadata": {},
   "outputs": [
    {
     "name": "stdout",
     "output_type": "stream",
     "text": [
      "Number of Objective Coordinates: 5\n"
     ]
    }
   ],
   "source": [
    "#\n",
    "N_obj = obj_coords.shape[0]\n",
    "print('Number of Objective Coordinates:', N_obj)"
   ]
  },
  {
   "cell_type": "code",
   "execution_count": 143,
   "metadata": {},
   "outputs": [
    {
     "name": "stdout",
     "output_type": "stream",
     "text": [
      "[[-9.42875964  1.74856255]\n",
      " [-7.39770136  0.68294264]\n",
      " [-2.96724392 -5.39100913]\n",
      " [ 3.02002037  1.46290097]\n",
      " [ 7.74345057 -9.24144303]\n",
      " [ 7.8479481   1.49579302]]\n"
     ]
    }
   ],
   "source": [
    "# Agregate robot and objective coordinates\n",
    "obj_positions = np.empty((N_obj + 1, 2), dtype=float)\n",
    "for i in range(0, N_obj):\n",
    "    if i == 0:\n",
    "        obj_positions[i][0] = robot_coords[0]\n",
    "        obj_positions[i][1] = robot_coords[1]\n",
    "    else:\n",
    "        obj_positions[i][0] = obj_coords[i-1][0]\n",
    "        obj_positions[i][1] = obj_coords[i-1][1]\n",
    "print(obj_positions)"
   ]
  },
  {
   "cell_type": "code",
   "execution_count": 144,
   "metadata": {},
   "outputs": [
    {
     "name": "stdout",
     "output_type": "stream",
     "text": [
      "[[ 0.          2.29363107  9.62936494 12.4520571  20.38786468 17.27855673]\n",
      " [ 2.29363107  0.          7.51810104 10.44687805 18.10380935 15.26730341]\n",
      " [ 9.62936494  7.51810104  0.          9.10073718 11.38177568 12.82171682]\n",
      " [12.4520571  10.44687805  9.10073718  0.         11.70016126  4.82803978]\n",
      " [20.38786468 18.10380935 11.38177568 11.70016126  0.         10.73774454]\n",
      " [17.27855673 15.26730341 12.82171682  4.82803978 10.73774454  0.        ]]\n"
     ]
    }
   ],
   "source": [
    "# Compute square distances array\n",
    "obj_distances = np.empty((N_obj + 1, N_obj + 1), dtype=float)\n",
    "for i in range(0, N_obj + 1):\n",
    "    for j in range(0, N_obj + 1):\n",
    "        x_diff = obj_positions[i][0] - obj_positions[j][0]\n",
    "        y_diff = obj_positions[i][1] - obj_positions[j][1]\n",
    "        obj_distances[i][j] = (x_diff**2 + y_diff**2)**(1/2)\n",
    "print(obj_distances)\n"
   ]
  },
  {
   "cell_type": "code",
   "execution_count": 145,
   "metadata": {},
   "outputs": [
    {
     "name": "stdout",
     "output_type": "stream",
     "text": [
      "[[58.62893182]\n",
      " [54.86611829]\n",
      " [55.00026556]\n",
      " [49.21134922]\n",
      " [59.54951464]\n",
      " [57.52341184]\n",
      " [61.23932326]\n",
      " [65.78857234]\n",
      " [65.92271961]\n",
      " [57.62949668]\n",
      " [62.15990608]\n",
      " [49.31743406]\n",
      " [62.98654979]\n",
      " [61.88102981]\n",
      " [71.29861241]\n",
      " [59.37672321]\n",
      " [65.50969607]\n",
      " [54.69332686]\n",
      " [71.57141441]\n",
      " [65.91664534]\n",
      " [63.25935179]\n",
      " [55.10027613]\n",
      " [61.23324899]\n",
      " [58.72894239]\n",
      " [67.31080656]\n",
      " [63.54799303]\n",
      " [69.05803309]\n",
      " [63.26911675]\n",
      " [69.3308351 ]\n",
      " [67.30473229]\n",
      " [75.29709079]\n",
      " [75.56989279]\n",
      " [81.07993286]\n",
      " [58.72894239]\n",
      " [77.31711933]\n",
      " [54.69332686]\n",
      " [71.66842453]\n",
      " [71.66235026]\n",
      " [75.70404006]\n",
      " [55.10027613]\n",
      " [69.91512372]\n",
      " [49.31743406]\n",
      " [80.25328915]\n",
      " [79.97441287]\n",
      " [76.21767361]\n",
      " [59.37672321]\n",
      " [74.1915708 ]\n",
      " [57.62949668]\n",
      " [69.81511315]\n",
      " [74.36436224]\n",
      " [82.48479374]\n",
      " [74.1915708 ]\n",
      " [82.75759574]\n",
      " [69.91512372]\n",
      " [75.19100595]\n",
      " [75.46380795]\n",
      " [83.58423945]\n",
      " [61.23324899]\n",
      " [88.13348854]\n",
      " [65.50969607]\n",
      " [79.8744023 ]\n",
      " [79.97441287]\n",
      " [75.59795522]\n",
      " [65.91664534]\n",
      " [67.30473229]\n",
      " [57.52341184]\n",
      " [71.83514169]\n",
      " [71.66235026]\n",
      " [76.11158877]\n",
      " [61.88102981]\n",
      " [63.26911675]\n",
      " [49.21134922]\n",
      " [77.21710875]\n",
      " [76.11158877]\n",
      " [88.13956281]\n",
      " [76.21767361]\n",
      " [88.13348854]\n",
      " [77.31711933]\n",
      " [71.84121596]\n",
      " [71.83514169]\n",
      " [83.86311573]\n",
      " [63.25935179]\n",
      " [82.75759574]\n",
      " [62.15990608]\n",
      " [80.15327858]\n",
      " [80.25328915]\n",
      " [81.25272429]\n",
      " [71.57141441]\n",
      " [69.3308351 ]\n",
      " [59.54951464]\n",
      " [75.46380795]\n",
      " [75.56989279]\n",
      " [74.36436224]\n",
      " [65.78857234]\n",
      " [63.54799303]\n",
      " [54.86611829]\n",
      " [81.25272429]\n",
      " [75.59795522]\n",
      " [83.86311573]\n",
      " [75.70404006]\n",
      " [83.58423945]\n",
      " [81.07993286]\n",
      " [80.15327858]\n",
      " [79.8744023 ]\n",
      " [88.13956281]\n",
      " [71.29861241]\n",
      " [82.48479374]\n",
      " [65.92271961]\n",
      " [71.84121596]\n",
      " [71.66842453]\n",
      " [77.21710875]\n",
      " [62.98654979]\n",
      " [69.05803309]\n",
      " [55.00026556]\n",
      " [75.19100595]\n",
      " [75.29709079]\n",
      " [69.81511315]\n",
      " [61.23932326]\n",
      " [67.31080656]\n",
      " [58.62893182]]\n"
     ]
    }
   ],
   "source": [
    "# Compute the permutations\n",
    "N_perm = np.math.factorial(N_obj)\n",
    "\n",
    "obj_list = []\n",
    "for i in range(0, N_obj):\n",
    "    obj_list.append(i+1)\n",
    "perm = itertools.permutations(obj_list)\n",
    "\n",
    "obj_permutations = np.zeros((N_perm, N_obj), dtype=int)\n",
    "ctr = 0\n",
    "for i in perm:\n",
    "    obj_permutations[ctr] = np.array(i)\n",
    "    ctr = ctr + 1\n",
    "\n",
    "obj_totaldistances = np.zeros((N_perm, 1), dtype=float)\n",
    "for i in range(0, N_perm):\n",
    "    total_dist = obj_distances[0][obj_permutations[i][0]]\n",
    "    for j in range(0, N_obj - 1):\n",
    "        total_dist += obj_distances[obj_permutations[i][j]][obj_permutations[i][j+1]]\n",
    "    total_dist += obj_distances[obj_permutations[i][N_obj - 1]][0]\n",
    "    obj_totaldistances[i] = total_dist\n",
    "print(obj_totaldistances)"
   ]
  },
  {
   "cell_type": "code",
   "execution_count": 147,
   "metadata": {},
   "outputs": [
    {
     "name": "stdout",
     "output_type": "stream",
     "text": [
      "Optimal Objective Priority:\n",
      "[3 5 4 2 1]\n",
      "Minimum Travel Distance: [49.21134922]\n"
     ]
    }
   ],
   "source": [
    "obj_minimum_dist = obj_totaldistances[0]\n",
    "obj_minimum_perm_index = 0\n",
    "for i in range(0, N_perm):\n",
    "    if obj_totaldistances[i] < obj_minimum_dist:\n",
    "        obj_minimum_dist = obj_totaldistances[i]\n",
    "        obj_minimum_perm_index = i\n",
    "\n",
    "print('Optimal Objective Priority:')\n",
    "print(obj_permutations[obj_minimum_perm_index])\n",
    "print('Minimum Travel Distance:', obj_minimum_dist)\n",
    "    "
   ]
  }
 ],
 "metadata": {
  "file_extension": ".py",
  "kernelspec": {
   "display_name": "Python 3",
   "language": "python",
   "name": "python3"
  },
  "language_info": {
   "codemirror_mode": {
    "name": "ipython",
    "version": 3
   },
   "file_extension": ".py",
   "mimetype": "text/x-python",
   "name": "python",
   "nbconvert_exporter": "python",
   "pygments_lexer": "ipython3",
   "version": "3.7.4"
  },
  "mimetype": "text/x-python",
  "name": "python",
  "npconvert_exporter": "python",
  "pygments_lexer": "ipython3",
  "version": 3
 },
 "nbformat": 4,
 "nbformat_minor": 2
}
